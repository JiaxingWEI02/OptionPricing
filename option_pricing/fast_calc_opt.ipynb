{
 "cells": [
  {
   "cell_type": "markdown",
   "metadata": {},
   "source": [
    "## 说明\n",
    "\n",
    "这是用于检验torch计算期权价格和深度学习定价的文件, 可以自由调取相应的计算脚本, 使用cpu和gpu以及不同的框架对传统的显示推演法以及深度学习定价法进行速度和精度的检验\n",
    "\n",
    "注意, 本框架暂时不具备实际应用价值, 后续会开发cython和cupyx的加速版本"
   ]
  },
  {
   "cell_type": "code",
   "execution_count": 1,
   "metadata": {},
   "outputs": [],
   "source": [
    "from option_calc import OptionPrc\n",
    "from utils import params\n",
    "from test_func import *"
   ]
  },
  {
   "cell_type": "markdown",
   "metadata": {},
   "source": [
    "#### torch.tensor加速BS定价"
   ]
  },
  {
   "cell_type": "code",
   "execution_count": 2,
   "metadata": {},
   "outputs": [],
   "source": [
    "cpu_runner = OptionPrc(params)"
   ]
  },
  {
   "cell_type": "markdown",
   "metadata": {},
   "source": [
    "#### tensor_backwardation和bs公式显式计算的结果对比"
   ]
  },
  {
   "cell_type": "code",
   "execution_count": 3,
   "metadata": {},
   "outputs": [
    {
     "data": {
      "text/html": [
       "<div>\n",
       "<style scoped>\n",
       "    .dataframe tbody tr th:only-of-type {\n",
       "        vertical-align: middle;\n",
       "    }\n",
       "\n",
       "    .dataframe tbody tr th {\n",
       "        vertical-align: top;\n",
       "    }\n",
       "\n",
       "    .dataframe thead th {\n",
       "        text-align: right;\n",
       "    }\n",
       "</style>\n",
       "<table border=\"1\" class=\"dataframe\">\n",
       "  <thead>\n",
       "    <tr style=\"text-align: right;\">\n",
       "      <th></th>\n",
       "      <th>Delta</th>\n",
       "      <th>Gamma</th>\n",
       "      <th>Vega</th>\n",
       "      <th>Theta</th>\n",
       "      <th>Rho</th>\n",
       "    </tr>\n",
       "  </thead>\n",
       "  <tbody>\n",
       "    <tr>\n",
       "      <th>bs_greeks</th>\n",
       "      <td>0.046362</td>\n",
       "      <td>0.019417</td>\n",
       "      <td>9.708576</td>\n",
       "      <td>0.288136</td>\n",
       "      <td>4.542206</td>\n",
       "    </tr>\n",
       "    <tr>\n",
       "      <th>autograd_greeks</th>\n",
       "      <td>0.046361</td>\n",
       "      <td>0.019417</td>\n",
       "      <td>9.708447</td>\n",
       "      <td>0.288132</td>\n",
       "      <td>4.542130</td>\n",
       "    </tr>\n",
       "  </tbody>\n",
       "</table>\n",
       "</div>"
      ],
      "text/plain": [
       "                    Delta     Gamma      Vega     Theta       Rho\n",
       "bs_greeks        0.046362  0.019417  9.708576  0.288136  4.542206\n",
       "autograd_greeks  0.046361  0.019417  9.708447  0.288132  4.542130"
      ]
     },
     "execution_count": 3,
     "metadata": {},
     "output_type": "execute_result"
    }
   ],
   "source": [
    "greeks = greeks_stats(methods={cpu_runner.bs_greeks.__name__: cpu_runner.bs_greeks(),\n",
    "                               cpu_runner.autograd_greeks.__name__: cpu_runner.autograd_greeks()})\n",
    "greeks"
   ]
  },
  {
   "cell_type": "markdown",
   "metadata": {},
   "source": [
    "#### 计算速度对比"
   ]
  },
  {
   "cell_type": "code",
   "execution_count": 4,
   "metadata": {},
   "outputs": [
    {
     "data": {
      "text/html": [
       "<div>\n",
       "<style scoped>\n",
       "    .dataframe tbody tr th:only-of-type {\n",
       "        vertical-align: middle;\n",
       "    }\n",
       "\n",
       "    .dataframe tbody tr th {\n",
       "        vertical-align: top;\n",
       "    }\n",
       "\n",
       "    .dataframe thead th {\n",
       "        text-align: right;\n",
       "    }\n",
       "</style>\n",
       "<table border=\"1\" class=\"dataframe\">\n",
       "  <thead>\n",
       "    <tr style=\"text-align: right;\">\n",
       "      <th></th>\n",
       "      <th>Avg Time per Call (μs)</th>\n",
       "    </tr>\n",
       "  </thead>\n",
       "  <tbody>\n",
       "    <tr>\n",
       "      <th>bs_greeks</th>\n",
       "      <td>1086.36746</td>\n",
       "    </tr>\n",
       "    <tr>\n",
       "      <th>autograd_greeks</th>\n",
       "      <td>1473.31440</td>\n",
       "    </tr>\n",
       "  </tbody>\n",
       "</table>\n",
       "</div>"
      ],
      "text/plain": [
       "                 Avg Time per Call (μs)\n",
       "bs_greeks                    1086.36746\n",
       "autograd_greeks              1473.31440"
      ]
     },
     "execution_count": 4,
     "metadata": {},
     "output_type": "execute_result"
    }
   ],
   "source": [
    "calc_time = time_stats(methods={cpu_runner.bs_greeks.__name__: cpu_runner.bs_greeks\n",
    "                               , cpu_runner.autograd_greeks.__name__: cpu_runner.autograd_greeks}\n",
    "                               , num_runs=1000, num_repeats=5)\n",
    "calc_time"
   ]
  },
  {
   "cell_type": "markdown",
   "metadata": {},
   "source": [
    "可以看到用cpu来求导会比显式求greeks要慢一些"
   ]
  },
  {
   "cell_type": "markdown",
   "metadata": {},
   "source": [
    "#### GPU计算速度对比"
   ]
  },
  {
   "cell_type": "code",
   "execution_count": 5,
   "metadata": {},
   "outputs": [
    {
     "data": {
      "text/html": [
       "<div>\n",
       "<style scoped>\n",
       "    .dataframe tbody tr th:only-of-type {\n",
       "        vertical-align: middle;\n",
       "    }\n",
       "\n",
       "    .dataframe tbody tr th {\n",
       "        vertical-align: top;\n",
       "    }\n",
       "\n",
       "    .dataframe thead th {\n",
       "        text-align: right;\n",
       "    }\n",
       "</style>\n",
       "<table border=\"1\" class=\"dataframe\">\n",
       "  <thead>\n",
       "    <tr style=\"text-align: right;\">\n",
       "      <th></th>\n",
       "      <th>Delta</th>\n",
       "      <th>Gamma</th>\n",
       "      <th>Vega</th>\n",
       "      <th>Theta</th>\n",
       "      <th>Rho</th>\n",
       "    </tr>\n",
       "  </thead>\n",
       "  <tbody>\n",
       "    <tr>\n",
       "      <th>bs_greeks</th>\n",
       "      <td>0.046362</td>\n",
       "      <td>0.019417</td>\n",
       "      <td>9.708576</td>\n",
       "      <td>0.288136</td>\n",
       "      <td>4.542206</td>\n",
       "    </tr>\n",
       "    <tr>\n",
       "      <th>autograd_greeks</th>\n",
       "      <td>0.046361</td>\n",
       "      <td>0.019417</td>\n",
       "      <td>9.708447</td>\n",
       "      <td>0.288132</td>\n",
       "      <td>4.542130</td>\n",
       "    </tr>\n",
       "  </tbody>\n",
       "</table>\n",
       "</div>"
      ],
      "text/plain": [
       "                    Delta     Gamma      Vega     Theta       Rho\n",
       "bs_greeks        0.046362  0.019417  9.708576  0.288136  4.542206\n",
       "autograd_greeks  0.046361  0.019417  9.708447  0.288132  4.542130"
      ]
     },
     "execution_count": 5,
     "metadata": {},
     "output_type": "execute_result"
    }
   ],
   "source": [
    "gpu_runner = OptionPrc(params, device='gpu')\n",
    "greeks = greeks_stats(methods={gpu_runner.bs_greeks.__name__: gpu_runner.bs_greeks(),\n",
    "                               gpu_runner.autograd_greeks.__name__: gpu_runner.autograd_greeks()})\n",
    "greeks"
   ]
  },
  {
   "cell_type": "code",
   "execution_count": 6,
   "metadata": {},
   "outputs": [
    {
     "data": {
      "text/html": [
       "<div>\n",
       "<style scoped>\n",
       "    .dataframe tbody tr th:only-of-type {\n",
       "        vertical-align: middle;\n",
       "    }\n",
       "\n",
       "    .dataframe tbody tr th {\n",
       "        vertical-align: top;\n",
       "    }\n",
       "\n",
       "    .dataframe thead th {\n",
       "        text-align: right;\n",
       "    }\n",
       "</style>\n",
       "<table border=\"1\" class=\"dataframe\">\n",
       "  <thead>\n",
       "    <tr style=\"text-align: right;\">\n",
       "      <th></th>\n",
       "      <th>Avg Time per Call (μs)</th>\n",
       "    </tr>\n",
       "  </thead>\n",
       "  <tbody>\n",
       "    <tr>\n",
       "      <th>bs_greeks</th>\n",
       "      <td>1110.79210</td>\n",
       "    </tr>\n",
       "    <tr>\n",
       "      <th>autograd_greeks</th>\n",
       "      <td>1455.20468</td>\n",
       "    </tr>\n",
       "  </tbody>\n",
       "</table>\n",
       "</div>"
      ],
      "text/plain": [
       "                 Avg Time per Call (μs)\n",
       "bs_greeks                    1110.79210\n",
       "autograd_greeks              1455.20468"
      ]
     },
     "execution_count": 6,
     "metadata": {},
     "output_type": "execute_result"
    }
   ],
   "source": [
    "calc_time = time_stats(methods={cpu_runner.bs_greeks.__name__: cpu_runner.bs_greeks\n",
    "                               , cpu_runner.autograd_greeks.__name__: cpu_runner.autograd_greeks\n",
    "                               , gpu_runner.bs_greeks.__name__: gpu_runner.bs_greeks\n",
    "                               , gpu_runner.autograd_greeks.__name__: gpu_runner.autograd_greeks}\n",
    "                               , num_runs=1000, num_repeats=5)\n",
    "calc_time"
   ]
  },
  {
   "cell_type": "markdown",
   "metadata": {},
   "source": [
    "最简单的欧式期权下torch框架并没有表现出优势"
   ]
  }
 ],
 "metadata": {
  "kernelspec": {
   "display_name": "Python 3",
   "language": "python",
   "name": "python3"
  },
  "language_info": {
   "codemirror_mode": {
    "name": "ipython",
    "version": 3
   },
   "file_extension": ".py",
   "mimetype": "text/x-python",
   "name": "python",
   "nbconvert_exporter": "python",
   "pygments_lexer": "ipython3",
   "version": "3.9.19"
  }
 },
 "nbformat": 4,
 "nbformat_minor": 2
}
